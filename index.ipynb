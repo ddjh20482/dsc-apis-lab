{
 "cells": [
  {
   "cell_type": "markdown",
   "metadata": {},
   "source": [
    "# APIs - Cumulative Lab\n",
    "\n",
    "\n",
    "## Introduction \n",
    "\n",
    "We've seen how the Yelp API works and how to create basic visualizations using Folium. It's time to put those skills to work in order to create a working map! Taking things a step further, you'll also independently explore how to perform pagination in order to retrieve a full results set from the Yelp API.\n",
    "\n",
    "## Objectives\n",
    "\n",
    "You will be able to: \n",
    "\n",
    "* Practice using functions to organize your code\n",
    "* Use pagination to retrieve all results from an API query\n",
    "* Practice parsing data returned from an API query\n",
    "* Practice interpreting visualizations of a dataset\n",
    "* Create maps using Folium"
   ]
  },
  {
   "cell_type": "markdown",
   "metadata": {},
   "source": [
    "## Your Task: Query Yelp for All Businesses in a Category and Analyze the Results\n",
    "\n",
    "![restaurant counter with pizza](images/restaurant_counter.jpg)\n",
    "\n",
    "Photo by <a href=\"https://unsplash.com/@jordanmadrid?utm_source=unsplash&utm_medium=referral&utm_content=creditCopyText\">Jordan Madrid</a> on <a href=\"/s/photos/pizza-restaurant?utm_source=unsplash&utm_medium=referral&utm_content=creditCopyText\">Unsplash</a>"
   ]
  },
  {
   "cell_type": "markdown",
   "metadata": {},
   "source": [
    "### Overview\n",
    "\n",
    "You've now worked with some API calls, but we have yet to see how to retrieve a more complete dataset in a programmatic manner. In this lab, you will write a query of businesses on Yelp, then use *pagination* to retrieve all possible results for that query. Then you will create a summary of your findings, including a Folium map of the geographic locations of those businesses.\n",
    "\n",
    "### Technical Details\n",
    "\n",
    "Returning to the Yelp API, the [documentation](https://www.yelp.com/developers/documentation/v3/business_search) also provides us details regarding the **API limits**. These often include details about the number of requests a user is allowed to make within a specified time limit and the maximum number of results to be returned. In this case, we are told that any request has a **maximum of 50 results per request** and defaults to 20. Furthermore, any search will be limited to a **total of 1000 results**. To retrieve all 1000 of these results, we would have to page through the results piece by piece, retrieving 50 at a time. Processes such as these are often referred to as pagination.\n",
    "\n",
    "Also, be mindful of the **API** ***rate*** **limits**. You can only make **5000 requests per day** and are also can make requests too fast. Start prototyping small before running a loop that could be faulty. You can also use `time.sleep(n)` to add delays. For more details see https://www.yelp.com/developers/documentation/v3/rate_limiting.\n",
    "\n",
    "In this lab, you will define a search and then paginate over the results to retrieve all of the results. You'll then parse these responses as a list of dictionaries (for further exploration) and create a map using Folium to visualize the results geographically.\n",
    "\n",
    "### Requirements\n",
    "\n",
    "#### 1. Make the Initial Request\n",
    "\n",
    "Start by filling in your API key to make the initial request to the business search API. Investigate the structure of the response you get back and start figuring out how you will extract the relevant information.\n",
    "\n",
    "#### 2. Add Pagination\n",
    "\n",
    "Using loops and functions, collect the maximum number of results for your query from the API.\n",
    "\n",
    "#### 3. Perform Exploratory Analysis\n",
    "\n",
    "Interpret visualizations related to the price range, average rating, and number of reviews for all query results.\n",
    "\n",
    "#### 4. Create a Folium Map\n",
    "\n",
    "Using latitude and longitude data, plot the query results on an interactive map."
   ]
  },
  {
   "cell_type": "markdown",
   "metadata": {},
   "source": [
    "## 1. Make the Initial Request\n",
    "\n",
    "### Querying\n",
    "\n",
    "Start by making an initial request to the Yelp API. Your search must include at least 2 parameters: **term** and **location**. For example, you might search for pizza restaurants in NYC. The term and location is up to you but make the request below.\n",
    "\n",
    "Use the `requests` library ([documentation here](https://requests.readthedocs.io/en/master/user/quickstart/#make-a-request)).\n",
    "\n",
    "You'll also need an API key from Yelp. If you haven't done this already, go to the Yelp [Manage App page](https://www.yelp.com/developers/v3/manage_app) and create a new app (after making an account if you haven't already)."
   ]
  },
  {
   "cell_type": "code",
   "execution_count": 1,
   "metadata": {},
   "outputs": [],
   "source": [
    "import json\n",
    "\n",
    "#Our previous function for loading our api key file\n",
    "def get_keys(path):\n",
    "    with open(path) as f:\n",
    "        return json.load(f)"
   ]
  },
  {
   "cell_type": "code",
   "execution_count": 3,
   "metadata": {},
   "outputs": [
    {
     "data": {
      "text/plain": [
       "<Response [200]>"
      ]
     },
     "execution_count": 3,
     "metadata": {},
     "output_type": "execute_result"
    }
   ],
   "source": [
    "# Replace None with appropriate code\n",
    "\n",
    "# Import the requests library\n",
    "import requests\n",
    "\n",
    "# Get this from the \"Manage App\" page. Make sure you set them\n",
    "# back to None before pushing this to GitHub, since otherwise\n",
    "# your credentials will be compromised\n",
    "keys = get_keys(\"/Users/Jinhoon/.secret/yelp_api.json\")\n",
    "api_key = keys['api_key']\n",
    "\n",
    "# These can be whatever you want! But the solution uses \"pizza\"\n",
    "# and \"New York NY\" if you want to compare your work directly\n",
    "term = \"pizza\"\n",
    "location = \"New York NY\"\n",
    "\n",
    "# Set up params for request\n",
    "url = \"https://api.yelp.com/v3/businesses/search\"\n",
    "headers = {\n",
    "    \"Authorization\": \"Bearer {}\".format(api_key)\n",
    "}\n",
    "url_params = {\n",
    "    \"term\": term.replace(\" \", \"+\"),\n",
    "    \"location\": location.replace(\" \", \"+\")\n",
    "}\n",
    "\n",
    "# Make the request using requests.get, passing in\n",
    "# url, headers=headers, and params=url_params\n",
    "response = requests.get(url, headers = headers, params = url_params)\n",
    "\n",
    "# Confirm we got a 200 response\n",
    "response"
   ]
  },
  {
   "cell_type": "code",
   "execution_count": 4,
   "metadata": {},
   "outputs": [
    {
     "data": {
      "text/plain": [
       "dict_keys(['businesses', 'total', 'region'])"
      ]
     },
     "execution_count": 4,
     "metadata": {},
     "output_type": "execute_result"
    }
   ],
   "source": [
    "# Run this cell without changes\n",
    "\n",
    "# Get the response body in JSON format\n",
    "response_json = response.json()\n",
    "# View the keys\n",
    "response_json.keys()"
   ]
  },
  {
   "cell_type": "markdown",
   "metadata": {},
   "source": [
    "### Extracting Data\n",
    "\n",
    "Now, retrieve the value associated with the `'businesses'` key, and inspect its contents."
   ]
  },
  {
   "cell_type": "code",
   "execution_count": 6,
   "metadata": {},
   "outputs": [
    {
     "data": {
      "text/plain": [
       "[{'id': 'zj8Lq1T8KIC5zwFief15jg',\n",
       "  'alias': 'prince-street-pizza-new-york-2',\n",
       "  'name': 'Prince Street Pizza',\n",
       "  'image_url': 'https://s3-media3.fl.yelpcdn.com/bphoto/ZAukOyv530w4KjOHC5YY1w/o.jpg',\n",
       "  'is_closed': False,\n",
       "  'url': 'https://www.yelp.com/biz/prince-street-pizza-new-york-2?adjust_creative=0VYMqgg3eVIpFgmPUih3Yg&utm_campaign=yelp_api_v3&utm_medium=api_v3_business_search&utm_source=0VYMqgg3eVIpFgmPUih3Yg',\n",
       "  'review_count': 4212,\n",
       "  'categories': [{'alias': 'pizza', 'title': 'Pizza'},\n",
       "   {'alias': 'italian', 'title': 'Italian'}],\n",
       "  'rating': 4.5,\n",
       "  'coordinates': {'latitude': 40.72308755605564,\n",
       "   'longitude': -73.99453001177575},\n",
       "  'transactions': ['delivery', 'pickup'],\n",
       "  'price': '$',\n",
       "  'location': {'address1': '27 Prince St',\n",
       "   'address2': None,\n",
       "   'address3': '',\n",
       "   'city': 'New York',\n",
       "   'zip_code': '10012',\n",
       "   'country': 'US',\n",
       "   'state': 'NY',\n",
       "   'display_address': ['27 Prince St', 'New York, NY 10012']},\n",
       "  'phone': '+12129664100',\n",
       "  'display_phone': '(212) 966-4100',\n",
       "  'distance': 1961.8771417367063},\n",
       " {'id': 'ysqgdbSrezXgVwER2kQWKA',\n",
       "  'alias': 'julianas-brooklyn-3',\n",
       "  'name': \"Juliana's\",\n",
       "  'image_url': 'https://s3-media2.fl.yelpcdn.com/bphoto/clscwgOF9_Ecq-Rwsq7jyQ/o.jpg',\n",
       "  'is_closed': False,\n",
       "  'url': 'https://www.yelp.com/biz/julianas-brooklyn-3?adjust_creative=0VYMqgg3eVIpFgmPUih3Yg&utm_campaign=yelp_api_v3&utm_medium=api_v3_business_search&utm_source=0VYMqgg3eVIpFgmPUih3Yg',\n",
       "  'review_count': 2400,\n",
       "  'categories': [{'alias': 'pizza', 'title': 'Pizza'}],\n",
       "  'rating': 4.5,\n",
       "  'coordinates': {'latitude': 40.70274718768062,\n",
       "   'longitude': -73.99343490196397},\n",
       "  'transactions': ['delivery'],\n",
       "  'price': '$$',\n",
       "  'location': {'address1': '19 Old Fulton St',\n",
       "   'address2': '',\n",
       "   'address3': '',\n",
       "   'city': 'Brooklyn',\n",
       "   'zip_code': '11201',\n",
       "   'country': 'US',\n",
       "   'state': 'NY',\n",
       "   'display_address': ['19 Old Fulton St', 'Brooklyn, NY 11201']},\n",
       "  'phone': '+17185966700',\n",
       "  'display_phone': '(718) 596-6700',\n",
       "  'distance': 308.56984360837544}]"
      ]
     },
     "execution_count": 6,
     "metadata": {},
     "output_type": "execute_result"
    }
   ],
   "source": [
    "# Replace None with appropriate code\n",
    "\n",
    "# Retrieve the value from response_json\n",
    "businesses = response_json['businesses']\n",
    "\n",
    "# View the first 2 records\n",
    "businesses[:2]"
   ]
  },
  {
   "cell_type": "markdown",
   "metadata": {},
   "source": [
    "### Preparing Data\n",
    "\n",
    "Write a function `prepare_data` that takes in a list of dictionaries like `businesses` and returns a copy that has been prepared for analysis:\n",
    "\n",
    "1. The `coordinates` key-value pair has been converted into two separate key-value pairs, `latitude` and `longitude`\n",
    "2. All other key-value pairs except for `name`, `review_count`, `rating`, and `price` have been dropped\n",
    "3. All dictionaries missing one of the relevant keys or containing null values have been dropped\n",
    "\n",
    "In other words, the final keys for each dictionary should be `name`, `review_count`, `rating`, `price`, `latitude`, and `longitude`.\n",
    "\n",
    "Complete the function in the cell below:"
   ]
  },
  {
   "cell_type": "code",
   "execution_count": 7,
   "metadata": {},
   "outputs": [
    {
     "data": {
      "text/plain": [
       "[{'name': 'Prince Street Pizza',\n",
       "  'review_count': 4212,\n",
       "  'rating': 4.5,\n",
       "  'price': '$',\n",
       "  'latitude': 40.72308755605564,\n",
       "  'longitude': -73.99453001177575},\n",
       " {'name': \"Juliana's\",\n",
       "  'review_count': 2400,\n",
       "  'rating': 4.5,\n",
       "  'price': '$$',\n",
       "  'latitude': 40.70274718768062,\n",
       "  'longitude': -73.99343490196397},\n",
       " {'name': 'Rubirosa',\n",
       "  'review_count': 2563,\n",
       "  'rating': 4.5,\n",
       "  'price': '$$',\n",
       "  'latitude': 40.722766,\n",
       "  'longitude': -73.996233},\n",
       " {'name': \"Lombardi's Pizza\",\n",
       "  'review_count': 6265,\n",
       "  'rating': 4.0,\n",
       "  'price': '$$',\n",
       "  'latitude': 40.7215934960083,\n",
       "  'longitude': -73.9955956044561},\n",
       " {'name': 'Lucali',\n",
       "  'review_count': 1760,\n",
       "  'rating': 4.0,\n",
       "  'price': '$$',\n",
       "  'latitude': 40.6818,\n",
       "  'longitude': -74.00024}]"
      ]
     },
     "execution_count": 7,
     "metadata": {},
     "output_type": "execute_result"
    }
   ],
   "source": [
    "# Replace None with appropriate code\n",
    "\n",
    "def prepare_data(data_list):\n",
    "    \"\"\"\n",
    "    This function takes in a list of dictionaries and prepares it\n",
    "    for analysis\n",
    "    \"\"\"\n",
    "    \n",
    "    # Make a new list to hold results\n",
    "    results = []\n",
    "    \n",
    "    for business_data in data_list:\n",
    "    \n",
    "        # Make a new dictionary to hold prepared data for this business\n",
    "        prepared_data = {}\n",
    "        \n",
    "        # Extract name, review_count, rating, and price key-value pairs\n",
    "        # from business_data and add to prepared_data\n",
    "        # If a key is not present in business_data, add it to prepared_data\n",
    "        # with an associated value of None\n",
    "        if 'name' in business_data.keys():\n",
    "            prepared_data['name'] = business_data['name'] \n",
    "        else:\n",
    "            prepared_data['name'] = None\n",
    "            \n",
    "        if 'review_count' in business_data.keys():\n",
    "            prepared_data['review_count'] = business_data['review_count']\n",
    "        else:\n",
    "            prepared_data['review_count'] = None\n",
    "        \n",
    "        if 'rating' in business_data.keys():\n",
    "            prepared_data['rating'] = business_data['rating']\n",
    "        else:\n",
    "            prepared_data['rating'] = None\n",
    "            \n",
    "        if 'price' in business_data.keys():\n",
    "            prepared_data['price'] = business_data['price']\n",
    "        else:\n",
    "            prepared_data['price'] = None\n",
    "            \n",
    "    \n",
    "        # Parse and add latitude and longitude columns\n",
    "        prepared_data['latitude'] = business_data['coordinates']['latitude']\n",
    "        prepared_data['longitude'] = business_data['coordinates']['longitude']\n",
    "        # Add to list if all values are present\n",
    "        if all(prepared_data.values()):\n",
    "            results.append(prepared_data)\n",
    "    \n",
    "    return results\n",
    "    \n",
    "# Test out function\n",
    "prepared_businesses = prepare_data(businesses)\n",
    "prepared_businesses[:5]"
   ]
  },
  {
   "cell_type": "markdown",
   "metadata": {},
   "source": [
    "Check that your function created the correct keys:"
   ]
  },
  {
   "cell_type": "code",
   "execution_count": 8,
   "metadata": {},
   "outputs": [],
   "source": [
    "# Run this cell without changes\n",
    "\n",
    "assert sorted(list(prepared_businesses[0].keys())) == ['latitude', 'longitude', 'name', 'price', 'rating', 'review_count']"
   ]
  },
  {
   "cell_type": "markdown",
   "metadata": {},
   "source": [
    "The following code will differ depending on your query, but we expect there to be 20 businesses in the original list, and potentially fewer in the prepared list (if any of them were missing data):"
   ]
  },
  {
   "cell_type": "code",
   "execution_count": 9,
   "metadata": {},
   "outputs": [
    {
     "name": "stdout",
     "output_type": "stream",
     "text": [
      "Original: 20\n",
      "Prepared: 20\n"
     ]
    }
   ],
   "source": [
    "# Run this cell without changes\n",
    "print(\"Original:\", len(businesses))\n",
    "print(\"Prepared:\", len(prepared_businesses))"
   ]
  },
  {
   "cell_type": "markdown",
   "metadata": {},
   "source": [
    "Great! We will reuse this function once we have retrieved the full dataset."
   ]
  },
  {
   "cell_type": "markdown",
   "metadata": {},
   "source": [
    "## 2. Add Pagination\n",
    "\n",
    "Now that you are able to extract information from one page of the response, let's figure out how to request as many pages as possible.\n",
    "\n",
    "### Determining the Total\n",
    "\n",
    "Depending on the number of total results for your query, you will either retrieve all of the results, or just the first 1000 (if there are more than 1000 total).\n",
    "\n",
    "We can find the total number of results using the `\"total\"` key:"
   ]
  },
  {
   "cell_type": "code",
   "execution_count": 10,
   "metadata": {},
   "outputs": [
    {
     "data": {
      "text/plain": [
       "11900"
      ]
     },
     "execution_count": 10,
     "metadata": {},
     "output_type": "execute_result"
    }
   ],
   "source": [
    "# Run this cell without changes\n",
    "response_json[\"total\"]"
   ]
  },
  {
   "cell_type": "markdown",
   "metadata": {},
   "source": [
    "(This is specific to the implementation of the Yelp API. Some APIs will just tell you that there are more pages, or will tell you the number of pages total, rather than the total number of results. If you're not sure, always check the documentation.)\n",
    "\n",
    "In the cell below, assign the variable `total` to either the value shown above (if it is less than 1000), or 1000."
   ]
  },
  {
   "cell_type": "code",
   "execution_count": 11,
   "metadata": {},
   "outputs": [],
   "source": [
    "# Replace None with appropriate code\n",
    "total = 1000"
   ]
  },
  {
   "cell_type": "markdown",
   "metadata": {},
   "source": [
    "### Calculating the Offsets\n",
    "\n",
    "The documentation states in the parameters section:\n",
    "\n",
    "> **Name**: `limit`, **Type:** int, **Description:** Optional. Number of business results to return. By default, it will return 20. Maximum is 50.\n",
    "\n",
    "> **Name**: `offset`, **Type:** int, **Description:** Optional. Offset the list of returned business results by this amount.\n",
    "\n",
    "So, to get the most results with the fewest API calls we want to set a limit of 50 every time. If, say, we wanted to get 210 total results, that would mean:\n",
    "\n",
    "1. Offset of `0` (first 50 records)\n",
    "2. Offset of `50` (second 50 records)\n",
    "3. Offset of `100` (third 50 records)\n",
    "4. Offset of `150` (fourth 50 records)\n",
    "5. Offset of `200` (final 10 records)\n",
    "\n",
    "In the cell below, create a function `get_offsets` that takes in a total and returns a list of offsets for that total. You can assume that there is a limit of 50 every time.\n",
    "\n",
    "*Hint: you can use `range` ([documentation here](https://docs.python.org/3.3/library/stdtypes.html?highlight=range#range)) to do this in one line of code. Just make the returned result is a list.*"
   ]
  },
  {
   "cell_type": "code",
   "execution_count": 17,
   "metadata": {},
   "outputs": [],
   "source": [
    "# Replace None with appropriate code\n",
    "def get_offsets(total):\n",
    "    \"\"\"\n",
    "    Get a list of offsets needed to get all pages\n",
    "    of data up until the total\n",
    "    \"\"\"\n",
    "    get_offsets = []\n",
    "    n = 0\n",
    "    for i in range(total):    \n",
    "        if n < total:\n",
    "            get_offsets.append(n)\n",
    "            n += 50\n",
    "        else:\n",
    "            continue\n",
    "       \n",
    "    return get_offsets\n",
    "            "
   ]
  },
  {
   "cell_type": "code",
   "execution_count": 19,
   "metadata": {},
   "outputs": [
    {
     "data": {
      "text/plain": [
       "[0, 50, 100, 150, 200]"
      ]
     },
     "execution_count": 19,
     "metadata": {},
     "output_type": "execute_result"
    }
   ],
   "source": [
    "get_offsets(210)"
   ]
  },
  {
   "cell_type": "markdown",
   "metadata": {},
   "source": [
    "Check that your function works below:"
   ]
  },
  {
   "cell_type": "code",
   "execution_count": 20,
   "metadata": {},
   "outputs": [],
   "source": [
    "# Run this cell without changes\n",
    "\n",
    "assert get_offsets(200) == [0, 50, 100, 150]\n",
    "assert get_offsets(210) == [0, 50, 100, 150, 200]"
   ]
  },
  {
   "cell_type": "markdown",
   "metadata": {},
   "source": [
    "### Putting It All Together\n",
    "\n",
    "Recall that the following variable has already been declared for you:"
   ]
  },
  {
   "cell_type": "code",
   "execution_count": 21,
   "metadata": {},
   "outputs": [
    {
     "data": {
      "text/plain": [
       "{'term': 'pizza', 'location': 'New+York+NY'}"
      ]
     },
     "execution_count": 21,
     "metadata": {},
     "output_type": "execute_result"
    }
   ],
   "source": [
    "# Run this cell without changes\n",
    "url_params"
   ]
  },
  {
   "cell_type": "markdown",
   "metadata": {},
   "source": [
    "We'll go ahead and also specify that the limit should be 50 every time:"
   ]
  },
  {
   "cell_type": "code",
   "execution_count": 22,
   "metadata": {},
   "outputs": [],
   "source": [
    "# Run this cell without changes\n",
    "url_params[\"limit\"] = 50"
   ]
  },
  {
   "cell_type": "markdown",
   "metadata": {},
   "source": [
    "In order to modify the offset, you'll need to add it to `url_params` with the key `\"offset\"` and whatever value is needed.\n",
    "\n",
    "In the cell below, write code that:\n",
    "\n",
    "* Creates an empty list for the full prepared dataset\n",
    "* Loops over all of the offsets from `get_offsets` and makes an API call each time with the specified offset\n",
    "* Calls `prepare_data` to get a cleaned version of the result of each API call\n",
    "* Extends the full prepared dataset list with each query's prepared dataset"
   ]
  },
  {
   "cell_type": "code",
   "execution_count": 25,
   "metadata": {},
   "outputs": [],
   "source": [
    "import time"
   ]
  },
  {
   "cell_type": "code",
   "execution_count": 26,
   "metadata": {},
   "outputs": [
    {
     "data": {
      "text/plain": [
       "813"
      ]
     },
     "execution_count": 26,
     "metadata": {},
     "output_type": "execute_result"
    }
   ],
   "source": [
    "# Replace None with appropriate code\n",
    "\n",
    "# Create an empty list for the full prepared dataset\n",
    "full_dataset = []\n",
    "\n",
    "for offset in get_offsets(total):\n",
    "    # Add or update the \"offset\" key-value pair in url_params\n",
    "    url_params[\"offset\"] = offset\n",
    "    \n",
    "    # Make the query and get the response\n",
    "    response = requests.get(url, headers=headers, params=url_params)\n",
    "    time.sleep(1)\n",
    "    \n",
    "    # Get the response body in JSON format\n",
    "    response_json = response.json()\n",
    "    \n",
    "    # Get the list of businesses from the response_json\n",
    "    businesses = response_json['businesses']\n",
    "    \n",
    "    # Call the prepare_data function to get a list of processed data\n",
    "    prepared_businesses = prepare_data(businesses)\n",
    "    \n",
    "    # Extend full_dataset with this list (don't append, or you'll get\n",
    "    # a list of lists instead of a flat list)\n",
    "    full_dataset.extend(prepared_businesses)\n",
    "\n",
    "# Check the length of the full dataset. It will be up to `total`,\n",
    "# potentially less if there were missing values\n",
    "len(full_dataset)"
   ]
  },
  {
   "cell_type": "markdown",
   "metadata": {},
   "source": [
    "This code may take up to a few minutes to run.\n",
    "\n",
    "If you get an error trying to get the response body in JSON format, try adding `time.sleep(1)` right after the `requests.get` line, so your code will sleep for 1 second between each API call."
   ]
  },
  {
   "cell_type": "markdown",
   "metadata": {},
   "source": [
    "## 3. Perform Exploratory Analysis\n",
    "\n",
    "Take the businesses from the previous question and do an initial exploratory analysis. We have provided some plots for you to interpret:"
   ]
  },
  {
   "cell_type": "code",
   "execution_count": 27,
   "metadata": {},
   "outputs": [
    {
     "data": {
      "image/png": "[encoded data removed]",
      "text/plain": [
       "<Figure size 1152x360 with 3 Axes>"
      ]
     },
     "metadata": {
      "needs_background": "light"
     },
     "output_type": "display_data"
    }
   ],
   "source": [
    "# Run this cell without changes\n",
    "from collections import Counter\n",
    "import matplotlib.pyplot as plt\n",
    "%matplotlib inline\n",
    "\n",
    "fig, (ax1, ax2, ax3) = plt.subplots(ncols=3, figsize=(16, 5))\n",
    "\n",
    "# Plot distribution of number of reviews\n",
    "all_review_counts = [x[\"review_count\"] for x in full_dataset]\n",
    "ax1.hist(all_review_counts)\n",
    "ax1.set_title(\"Review Count Distribution\")\n",
    "ax1.set_xlabel(\"Number of Reviews\")\n",
    "ax1.set_ylabel(\"Number of Businesses\")\n",
    "\n",
    "# Plot rating distribution\n",
    "all_ratings = [x[\"rating\"] for x in full_dataset]\n",
    "rating_counter = Counter(all_ratings)\n",
    "rating_keys = sorted(rating_counter.keys())\n",
    "ax2.bar(rating_keys, [rating_counter[key] for key in rating_keys])\n",
    "ax2.set_title(\"Rating Distribution\")\n",
    "ax2.set_xlabel(\"Rating\")\n",
    "ax2.set_ylabel(\"Number of Businesses\")\n",
    "\n",
    "# Plot price distribution\n",
    "all_prices = [x[\"price\"].replace(\"$\", r\"\\$\") for x in full_dataset]\n",
    "price_counter = Counter(all_prices)\n",
    "price_keys = sorted(price_counter.keys())\n",
    "ax3.bar(price_keys, [price_counter[key] for key in price_keys])\n",
    "ax3.set_title(\"Price Distribution\")\n",
    "ax3.set_xlabel(\"Price Category\")\n",
    "ax3.set_ylabel(\"Number of Businesses\");"
   ]
  },
  {
   "cell_type": "markdown",
   "metadata": {},
   "source": [
    "Describe the distributions displayed above and interpret them in the context of your query. (Your answer may differ from the solution branch depending on your query.)"
   ]
  },
  {
   "cell_type": "code",
   "execution_count": null,
   "metadata": {},
   "outputs": [],
   "source": [
    "# Replace None with appropriate text\n",
    "\"\"\"\n",
    "The number of reviews is skewed to far left. \n",
    "It is likely that the most stores in Yelp has reviews less than 100.\n",
    "\n",
    "The distribution of rating is skewewd a bit to right.\n",
    "This means that the different between mean and median of rating is fairly small.\n",
    "The most stores has rating between 3.2 and 4.8.\n",
    "\n",
    "The distribution of price category shows \n",
    "the most stores are reviewed and marked as the two lowest price level.\n",
    "\"\"\""
   ]
  },
  {
   "cell_type": "markdown",
   "metadata": {},
   "source": [
    "In the cell below, we also plot the rating distributions by price. In this setup, a price of one dollar sign is \"lower price\" and everything else is \"higher price\"."
   ]
  },
  {
   "cell_type": "code",
   "execution_count": 28,
   "metadata": {},
   "outputs": [
    {
     "data": {
      "image/png": "[encoded data removed]",
      "text/plain": [
       "<Figure size 432x288 with 1 Axes>"
      ]
     },
     "metadata": {
      "needs_background": "light"
     },
     "output_type": "display_data"
    }
   ],
   "source": [
    "# Run this cell without changes\n",
    "\n",
    "higher_price = []\n",
    "lower_price = []\n",
    "for row in full_dataset:\n",
    "    if row[\"price\"] == \"$\":\n",
    "        lower_price.append(row[\"rating\"])\n",
    "    else:\n",
    "        higher_price.append(row[\"rating\"])\n",
    "        \n",
    "fig, ax = plt.subplots()\n",
    "\n",
    "ax.hist([higher_price, lower_price], label=[\"higher price\", \"lower price\"], density=True)\n",
    "\n",
    "ax.legend();"
   ]
  },
  {
   "cell_type": "markdown",
   "metadata": {},
   "source": [
    "Is a higher price associated with a higher rating? (No need for any additional math/statistics, just interpret what you see in the plot.)"
   ]
  },
  {
   "cell_type": "code",
   "execution_count": null,
   "metadata": {},
   "outputs": [],
   "source": [
    "# Replace None with appropriate text\n",
    "\"\"\"\n",
    "Stores with higher price tend to have higher rating compared to stores with lower price.\n",
    "\"\"\""
   ]
  },
  {
   "cell_type": "markdown",
   "metadata": {},
   "source": [
    "Finally, let's look at ratings vs. review counts:"
   ]
  },
  {
   "cell_type": "code",
   "execution_count": 29,
   "metadata": {},
   "outputs": [
    {
     "data": {
      "image/png": "[encoded data removed]",
      "text/plain": [
       "<Figure size 1152x360 with 1 Axes>"
      ]
     },
     "metadata": {
      "needs_background": "light"
     },
     "output_type": "display_data"
    }
   ],
   "source": [
    "# Run this cell without changes\n",
    "fig, ax = plt.subplots(figsize=(16,5))\n",
    "\n",
    "ax.scatter(all_review_counts, all_ratings, alpha=0.2)\n",
    "ax.set_xlabel(\"Number of Reviews\")\n",
    "ax.set_ylabel(\"Rating\")\n",
    "# \"zoom in\" to a subset of review counts\n",
    "ax.set_xlim(left=0, right=1000);"
   ]
  },
  {
   "cell_type": "markdown",
   "metadata": {},
   "source": [
    "Is a higher number of reviews associated with a higher rating?"
   ]
  },
  {
   "cell_type": "code",
   "execution_count": null,
   "metadata": {},
   "outputs": [],
   "source": [
    "# Replace None with appropriate text\n",
    "\"\"\"\n",
    "The higher number of reviews does not explain the higher rating \n",
    "as the highest rating seems to have the lowest or the second lowest count of reviews.\n",
    "The reviews count might just mean the distribution of the number of stores.\n",
    "\"\"\""
   ]
  },
  {
   "cell_type": "markdown",
   "metadata": {},
   "source": [
    "## 4. Create a Folium Map\n",
    "\n",
    "Make a map using Folium of the businesses you retrieved. Be sure to also add popups to the markers giving some basic information such as name, rating and price.\n",
    "\n",
    "You can center the map around the latitude and longitude of the first item in `full_dataset`."
   ]
  },
  {
   "cell_type": "code",
   "execution_count": 31,
   "metadata": {},
   "outputs": [
    {
     "data": {
      "text/plain": [
       "[{'name': 'Prince Street Pizza',\n",
       "  'review_count': 4212,\n",
       "  'rating': 4.5,\n",
       "  'price': '$',\n",
       "  'latitude': 40.72308755605564,\n",
       "  'longitude': -73.99453001177575},\n",
       " {'name': \"Juliana's\",\n",
       "  'review_count': 2400,\n",
       "  'rating': 4.5,\n",
       "  'price': '$$',\n",
       "  'latitude': 40.70274718768062,\n",
       "  'longitude': -73.99343490196397},\n",
       " {'name': 'Rubirosa',\n",
       "  'review_count': 2563,\n",
       "  'rating': 4.5,\n",
       "  'price': '$$',\n",
       "  'latitude': 40.722766,\n",
       "  'longitude': -73.996233}]"
      ]
     },
     "execution_count": 31,
     "metadata": {},
     "output_type": "execute_result"
    }
   ],
   "source": [
    "full_dataset[0:3]"
   ]
  },
  {
   "cell_type": "code",
   "execution_count": 34,
   "metadata": {},
   "outputs": [
    {
     "data": {
      "text/html": [
       "<div style=\"width:100%;\"><div style=\"position:relative;width:100%;height:0;padding-bottom:60%;\"><span style=\"color:#565656\">Make this Notebook Trusted to load map: File -> Trust Notebook</span><iframe src=\"about:blank\" style=\"position:absolute;width:100%;height:100%;left:0;top:0;border:none !important;\" data-html=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 onload=\"this.contentDocument.open();this.contentDocument.write(atob(this.getAttribute('data-html')));this.contentDocument.close();\" allowfullscreen webkitallowfullscreen mozallowfullscreen></iframe></div></div>"
      ],
      "text/plain": [
       "<folium.folium.Map at 0x2108d566ac0>"
      ]
     },
     "execution_count": 34,
     "metadata": {},
     "output_type": "execute_result"
    }
   ],
   "source": [
    "# Replace None with appropriate code\n",
    "\n",
    "# Import the library\n",
    "import folium\n",
    "\n",
    "# Set up center latitude and longitude\n",
    "center_lat = 40.7\n",
    "center_long = -74\n",
    "\n",
    "# Initialize map with center lat and long\n",
    "yelp_map = folium.Map([center_lat, center_long], zoom_start=13)\n",
    "\n",
    "# Adjust this limit to see more or fewer businesses\n",
    "limit=100\n",
    "\n",
    "for business in full_dataset[:limit]:\n",
    "    # Extract information about business\n",
    "    lat = business['latitude']\n",
    "    long = business['longitude']\n",
    "    name = business['name']\n",
    "    rating = business['rating']\n",
    "    price = business['price']\n",
    "    details = \"{}\\nPrice: {} Rating:{}\".format(name,price,rating)\n",
    "    \n",
    "    # Create popup with relevant details\n",
    "    popup = folium.Popup(details, parse_html=True)\n",
    "    \n",
    "    # Create marker with relevant lat/long and popup\n",
    "    marker = folium.Marker(location=[lat, long], popup=popup)\n",
    "    \n",
    "    marker.add_to(yelp_map)\n",
    "    \n",
    "yelp_map"
   ]
  },
  {
   "cell_type": "markdown",
   "metadata": {},
   "source": [
    "## Summary\n",
    "\n",
    "Nice work! In this lab, you've made multiple API calls to Yelp in order to paginate through a results set, performing some basic exploratory analysis and then creating a nice interactive map to display the results using Folium! Well done!"
   ]
  }
 ],
 "metadata": {
  "kernelspec": {
   "display_name": "Python 3",
   "language": "python",
   "name": "python3"
  },
  "language_info": {
   "codemirror_mode": {
    "name": "ipython",
    "version": 3
   },
   "file_extension": ".py",
   "mimetype": "text/x-python",
   "name": "python",
   "nbconvert_exporter": "python",
   "pygments_lexer": "ipython3",
   "version": "3.8.5"
  },
  "toc": {
   "base_numbering": 1,
   "nav_menu": {},
   "number_sections": true,
   "sideBar": true,
   "skip_h1_title": false,
   "title_cell": "Table of Contents",
   "title_sidebar": "Contents",
   "toc_cell": false,
   "toc_position": {},
   "toc_section_display": true,
   "toc_window_display": false
  }
 },
 "nbformat": 4,
 "nbformat_minor": 2
}
